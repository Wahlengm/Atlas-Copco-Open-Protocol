{
 "cells": [
  {
   "cell_type": "code",
   "execution_count": 11,
   "id": "855eb641-16cf-49d3-a77c-890a1d1b3e77",
   "metadata": {},
   "outputs": [
    {
     "data": {
      "text/plain": [
       "{'MID': 2,\n",
       " 'REVISION': 7,\n",
       " 'ACK FLAG': 1,\n",
       " 'STATION ID': 20,\n",
       " 'SPINDLE ID': 10,\n",
       " 'SEQUENCE NUMBER': 0,\n",
       " 'NUMBER OF MESSAGE PARTS': 0,\n",
       " 'MESSAGE PART NUMBER': 0,\n",
       " 'CELL ID': '0010',\n",
       " 'CHANNEL ID': '20',\n",
       " 'CONTROLLER NAME': '0000000000000000000000010',\n",
       " 'SUPPLIER CODE': '000',\n",
       " 'OPEN PROTOCOL VERSION': '0000000000000000000',\n",
       " 'CONROLLER SOFTWARE VERSION': '0000000000000000000',\n",
       " 'TOOL SOFTWARE VERSION': '0000000000000000000',\n",
       " 'RBU TYPE': '000000000000000000000000',\n",
       " 'CONTROLLER SERIAL NUMBER': '0000000000',\n",
       " 'SYSTEM TYPE': '000',\n",
       " 'SYSTEM SUBTYPE': '000',\n",
       " 'SEQUENCE NUMBER SUPPORT': '0',\n",
       " 'LINKING HANDLING SUPPORT': '0',\n",
       " 'STATION Id': '0000000000',\n",
       " 'STATION NAME': '0000000000000000000000000',\n",
       " 'CLIENT ID': '0',\n",
       " 'OPTIONAL KEEP ALIVE': '0'}"
      ]
     },
     "execution_count": 11,
     "metadata": {},
     "output_type": "execute_result"
    }
   ],
   "source": [
    "from MID_Header import *\n",
    "\n",
    "#MID0002 MESSAGE INTERPRETER AND CREATOR\n",
    "\n",
    "def interpret_message(message):\n",
    "    data = interpret_header(message)\n",
    "    if data['REVISION'] >= 1: data.update({'CELL ID' : message[22:26], 'CHANNEL ID' : message[28:30], 'CONTROLLER NAME' : message[32:57]})\n",
    "    if data['REVISION'] >= 2: data.update({'SUPPLIER CODE' : message[59:62]})\n",
    "    if data['REVISION'] >= 3: data.update({'OPEN PROTOCOL VERSION' : message[64:83], 'CONROLLER SOFTWARE VERSION' : message[85:104], 'TOOL SOFTWARE VERSION' : message[106:125]})\n",
    "    if data['REVISION'] >= 4: data.update({'RBU TYPE' : message[127:151], 'CONTROLLER SERIAL NUMBER' : message[153:163]})\n",
    "    if data['REVISION'] >= 5: data.update({'SYSTEM TYPE' : message[165:168], 'SYSTEM SUBTYPE' : message[170:173]})\n",
    "    if data['REVISION'] >= 6: data.update({'SEQUENCE NUMBER SUPPORT' : message[175], 'LINKING HANDLING SUPPORT' : message[178], 'STATION Id' : message[181:191], 'STATION NAME' : message[193:218], 'CLIENT ID' : message[220]})\n",
    "    if data['REVISION'] >= 7: data.update({'OPTIONAL KEEP ALIVE' : message[223]})\n",
    "    return data\n",
    "\n",
    "#CONTROLLER ONLY MID, CREATION NOT NEEDED\n",
    "def create_message(mid, rev, ack, station_id, spindle_id, sequence_number, number_message_parts, message_part):\n",
    "    return None\n",
    "    \n",
    "    \n",
    "interpret_message('00200002007120100000100010212030000000000000000000000001000000000000000000000000000000000000000000000000000000000000000000000000000000000000000000000000000000000000000000000000000000000000000000000000000000000000000000000000000000000000000000000000000000000000000000000')"
   ]
  },
  {
   "cell_type": "code",
   "execution_count": null,
   "id": "628ed8bc-508a-4a4e-8a65-4f05392d6396",
   "metadata": {},
   "outputs": [],
   "source": []
  }
 ],
 "metadata": {
  "kernelspec": {
   "display_name": "Python 3 (ipykernel)",
   "language": "python",
   "name": "python3"
  },
  "language_info": {
   "codemirror_mode": {
    "name": "ipython",
    "version": 3
   },
   "file_extension": ".py",
   "mimetype": "text/x-python",
   "name": "python",
   "nbconvert_exporter": "python",
   "pygments_lexer": "ipython3",
   "version": "3.12.3"
  }
 },
 "nbformat": 4,
 "nbformat_minor": 5
}
